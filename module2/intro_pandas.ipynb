{
 "cells": [
  {
   "cell_type": "markdown",
   "metadata": {},
   "source": [
    "# Intro to Pandas Library\n",
    "\n",
    "The pandas library consist mostly of two data types:\n",
    "- Series\n",
    "- DataFrames: A 2D object to represent 'tabular' data\n",
    "\n",
    "## Dataframes Characteristics\n",
    "- Mutable\n",
    "- Index based\n",
    "- A full class\n"
   ]
  },
  {
   "cell_type": "markdown",
   "metadata": {},
   "source": [
    "## Classic data representation formats\n",
    "- JSON\n",
    "- CSV"
   ]
  },
  {
   "cell_type": "code",
   "execution_count": 1,
   "metadata": {},
   "outputs": [],
   "source": [
    "import pandas as pd"
   ]
  },
  {
   "cell_type": "markdown",
   "metadata": {},
   "source": [
    "# Task: Sales Data"
   ]
  },
  {
   "cell_type": "code",
   "execution_count": 15,
   "metadata": {},
   "outputs": [
    {
     "data": {
      "text/html": [
       "<div>\n",
       "<style scoped>\n",
       "    .dataframe tbody tr th:only-of-type {\n",
       "        vertical-align: middle;\n",
       "    }\n",
       "\n",
       "    .dataframe tbody tr th {\n",
       "        vertical-align: top;\n",
       "    }\n",
       "\n",
       "    .dataframe thead th {\n",
       "        text-align: right;\n",
       "    }\n",
       "</style>\n",
       "<table border=\"1\" class=\"dataframe\">\n",
       "  <thead>\n",
       "    <tr style=\"text-align: right;\">\n",
       "      <th></th>\n",
       "      <th>Date</th>\n",
       "      <th>Amount</th>\n",
       "      <th>Product</th>\n",
       "    </tr>\n",
       "  </thead>\n",
       "  <tbody>\n",
       "    <tr>\n",
       "      <th>0</th>\n",
       "      <td>2/13</td>\n",
       "      <td>3</td>\n",
       "      <td>A</td>\n",
       "    </tr>\n",
       "    <tr>\n",
       "      <th>1</th>\n",
       "      <td>5/7</td>\n",
       "      <td>12</td>\n",
       "      <td>B</td>\n",
       "    </tr>\n",
       "    <tr>\n",
       "      <th>2</th>\n",
       "      <td>12/24</td>\n",
       "      <td>50</td>\n",
       "      <td>C</td>\n",
       "    </tr>\n",
       "    <tr>\n",
       "      <th>3</th>\n",
       "      <td>1/29</td>\n",
       "      <td>17</td>\n",
       "      <td>NaN</td>\n",
       "    </tr>\n",
       "    <tr>\n",
       "      <th>4</th>\n",
       "      <td>9/30</td>\n",
       "      <td>1</td>\n",
       "      <td>NaN</td>\n",
       "    </tr>\n",
       "  </tbody>\n",
       "</table>\n",
       "</div>"
      ],
      "text/plain": [
       "    Date  Amount Product\n",
       "0   2/13       3       A\n",
       "1    5/7      12       B\n",
       "2  12/24      50       C\n",
       "3   1/29      17     NaN\n",
       "4   9/30       1     NaN"
      ]
     },
     "execution_count": 15,
     "metadata": {},
     "output_type": "execute_result"
    }
   ],
   "source": [
    "#TODO: Define a df called df_sales with two columns: Date, Amount\n",
    "df_sales = pd.DataFrame(columns = ['Date', 'Amount'])\n",
    "\n",
    "#TODO: Add sample data: 3 rows\n",
    "df_sales.loc[1] = ['2/13',3]\n",
    "df_sales.loc[2] = ['5/7', 12]\n",
    "df_sales.loc[3] = ['12/24', 50]\n",
    "\n",
    "#TODO: Create a new df with two more rows of data, same columns as df_sales\n",
    "df_new = pd.DataFrame(columns=df_sales.columns)\n",
    "df_new.loc[1] = ['1/29', 17]\n",
    "df_new.loc[2] = ['9/30', 1]\n",
    "\n",
    "#TODO: Combine them, and make sure indexes are correct\n",
    "df_sales = pd.concat([df_sales, df_new], ignore_index=True)\n",
    "\n",
    "#TODO: Add a new column called 'Product' with 4 rows of data, and combine it to original df_sales\n",
    "new_column = pd.DataFrame({'Product':['A', 'B', 'C']}) #can use dictionaries to create columns/values\n",
    "df_sales['Product'] = new_column\n",
    "\n",
    "df_sales"
   ]
  }
 ],
 "metadata": {
  "kernelspec": {
   "display_name": "cs4580",
   "language": "python",
   "name": "python3"
  },
  "language_info": {
   "codemirror_mode": {
    "name": "ipython",
    "version": 3
   },
   "file_extension": ".py",
   "mimetype": "text/x-python",
   "name": "python",
   "nbconvert_exporter": "python",
   "pygments_lexer": "ipython3",
   "version": "3.10.14"
  }
 },
 "nbformat": 4,
 "nbformat_minor": 2
}
