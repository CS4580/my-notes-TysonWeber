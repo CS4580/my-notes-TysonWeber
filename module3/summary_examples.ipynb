{
 "cells": [
  {
   "cell_type": "markdown",
   "metadata": {},
   "source": [
    "## Tasks\n",
    "\n",
    "## Load the vine dataset"
   ]
  },
  {
   "cell_type": "code",
   "execution_count": 6,
   "metadata": {},
   "outputs": [],
   "source": [
    "import pandas as pd\n",
    "# Load data set\n",
    "reviews_df = pd.read_csv('../data/wine-reviews/winemag-data-130k-v2.csv', index_col = 0)"
   ]
  },
  {
   "cell_type": "markdown",
   "metadata": {
    "vscode": {
     "languageId": "plaintext"
    }
   },
   "source": [
    "Calculate the `median` of the `points` column from the dataset frame"
   ]
  },
  {
   "cell_type": "code",
   "execution_count": 7,
   "metadata": {},
   "outputs": [
    {
     "name": "stdout",
     "output_type": "stream",
     "text": [
      "88.0\n"
     ]
    }
   ],
   "source": [
    "# save it in a variable called: median_points = \n",
    "median_points = reviews_df.points.median()\n",
    "print(median_points)"
   ]
  },
  {
   "cell_type": "code",
   "execution_count": 8,
   "metadata": {},
   "outputs": [
    {
     "name": "stdout",
     "output_type": "stream",
     "text": [
      "['Italy' 'Portugal' 'US' 'Spain' 'France' 'Germany' 'Argentina' 'Chile'\n",
      " 'Australia' 'Austria' 'South Africa' 'New Zealand' 'Israel' 'Hungary'\n",
      " 'Greece' 'Romania' 'Mexico' 'Canada' nan 'Turkey' 'Czech Republic'\n",
      " 'Slovenia' 'Luxembourg' 'Croatia' 'Georgia' 'Uruguay' 'England' 'Lebanon'\n",
      " 'Serbia' 'Brazil' 'Moldova' 'Morocco' 'Peru' 'India' 'Bulgaria' 'Cyprus'\n",
      " 'Armenia' 'Switzerland' 'Bosnia and Herzegovina' 'Ukraine' 'Slovakia'\n",
      " 'Macedonia' 'China' 'Egypt']\n"
     ]
    }
   ],
   "source": [
    "# Find which countries are represented in the dataset\n",
    "# store values in: countries =\n",
    "countries = reviews_df.country.unique()\n",
    "print(countries)"
   ]
  },
  {
   "cell_type": "code",
   "execution_count": 10,
   "metadata": {},
   "outputs": [
    {
     "name": "stdout",
     "output_type": "stream",
     "text": [
      "country\n",
      "US                        54504\n",
      "France                    22093\n",
      "Italy                     19540\n",
      "Spain                      6645\n",
      "Portugal                   5691\n",
      "Chile                      4472\n",
      "Argentina                  3800\n",
      "Austria                    3345\n",
      "Australia                  2329\n",
      "Germany                    2165\n",
      "New Zealand                1419\n",
      "South Africa               1401\n",
      "Israel                      505\n",
      "Greece                      466\n",
      "Canada                      257\n",
      "Hungary                     146\n",
      "Bulgaria                    141\n",
      "Romania                     120\n",
      "Uruguay                     109\n",
      "Turkey                       90\n",
      "Slovenia                     87\n",
      "Georgia                      86\n",
      "England                      74\n",
      "Croatia                      73\n",
      "Mexico                       70\n",
      "Moldova                      59\n",
      "Brazil                       52\n",
      "Lebanon                      35\n",
      "Morocco                      28\n",
      "Peru                         16\n",
      "Ukraine                      14\n",
      "Serbia                       12\n",
      "Czech Republic               12\n",
      "Macedonia                    12\n",
      "Cyprus                       11\n",
      "India                         9\n",
      "Switzerland                   7\n",
      "Luxembourg                    6\n",
      "Bosnia and Herzegovina        2\n",
      "Armenia                       2\n",
      "Slovakia                      1\n",
      "China                         1\n",
      "Egypt                         1\n",
      "Name: count, dtype: int64\n"
     ]
    }
   ],
   "source": [
    "# Find how often each country appears in the set\n",
    "# Store values in: reviews_per_country\n",
    "reviews_per_country = reviews_df.country.value_counts()\n",
    "print(reviews_per_country)"
   ]
  },
  {
   "cell_type": "code",
   "execution_count": 13,
   "metadata": {},
   "outputs": [
    {
     "name": "stdout",
     "output_type": "stream",
     "text": [
      "0               NaN\n",
      "1        -20.363389\n",
      "2        -21.363389\n",
      "3        -22.363389\n",
      "4         29.636611\n",
      "            ...    \n",
      "129966    -7.363389\n",
      "129967    39.636611\n",
      "129968    -5.363389\n",
      "129969    -3.363389\n",
      "129970   -14.363389\n",
      "Name: price, Length: 129971, dtype: float64\n"
     ]
    }
   ],
   "source": [
    "# Create a variable called: centered_price =\n",
    "# That contains the price column with the mean price subtracted\n",
    "mean_price = reviews_df.price.mean()\n",
    "centered_price = reviews_df.price - mean_price\n",
    "print(centered_price)"
   ]
  },
  {
   "cell_type": "code",
   "execution_count": 21,
   "metadata": {},
   "outputs": [
    {
     "name": "stdout",
     "output_type": "stream",
     "text": [
      "Bandit NV Merlot (California)\n"
     ]
    }
   ],
   "source": [
    "# Find the bargain wine\n",
    "# Create a variable called: bargain wine with the title of the highest points-per-price ratio\n",
    "points_per_price = (reviews_df.points / reviews_df.price).dropna()\n",
    "# bargain_wine = max(points_per_price)\n",
    "\n",
    "bargain_wine = reviews_df.loc[(reviews_df.points/reviews_df.price).dropna().idxmax(), 'title']\n",
    "print(bargain_wine)"
   ]
  },
  {
   "cell_type": "code",
   "execution_count": 36,
   "metadata": {},
   "outputs": [
    {
     "name": "stdout",
     "output_type": "stream",
     "text": [
      "tropical    3607\n",
      "fruity      9090\n",
      "dtype: int64\n"
     ]
    }
   ],
   "source": [
    "# TODO: Create a Series called: descriptor_counts =\n",
    "# Count how many times each of the words: 'fruity' and 'tropical' appear in the description column\n",
    "\n",
    "# def count_words(input_string, list_of_words):\n",
    "#   count = 0\n",
    "#   for word in list_of_words:\n",
    "#     count += input_string.count(word)\n",
    "\n",
    "#   return count\n",
    "\n",
    "# list_of_words = ['fruity', 'tropical']\n",
    "# descriptor_counts = reviews_df.description.map(lambda x: count_words(x, list_of_words))\n",
    "# print(descriptor_counts.sum())\n",
    "# print()\n",
    "\n",
    "# Professors solution\n",
    "tropical = reviews_df.description.map(lambda desc: 'tropical' in desc).sum()\n",
    "fruity = reviews_df.description.map(lambda desc: 'fruity' in desc).sum()\n",
    "\n",
    "descriptor_counts = pd.Series([tropical, fruity], index = ['tropical', 'fruity'])\n",
    "\n",
    "print(descriptor_counts)\n",
    "  "
   ]
  },
  {
   "cell_type": "code",
   "execution_count": 35,
   "metadata": {},
   "outputs": [
    {
     "data": {
      "text/plain": [
       "star_rating\n",
       "3      2416\n",
       "2    115125\n",
       "1     12430\n",
       "Name: count, dtype: int64"
      ]
     },
     "execution_count": 35,
     "metadata": {},
     "output_type": "execute_result"
    }
   ],
   "source": [
    "# Create another series called: star_rating =\n",
    "# With the number of stars corresponding to each review in the set \n",
    "# Rating system ranges from 80 to 100 points\n",
    "# A score of 95 or higher = 3 stars\n",
    "# A score of at least 85 but less than 95  = 2 stars\n",
    "# Any other score = 1 star\n",
    "\n",
    "def rate_wine(points):\n",
    "  ''' \n",
    "      A function to find the star rating of a wine based on its points value\n",
    "      args: points, an integer for the wine's points\n",
    "      return: a star rating from 1 to 3 based on the points\n",
    "  '''\n",
    "  if points >= 95:\n",
    "    return 3\n",
    "  elif points >= 85:\n",
    "    return 2\n",
    "  else:\n",
    "    return 1\n",
    "  \n",
    "reviews_df[\"star_rating\"] = reviews_df[\"points\"].map(rate_wine)\n",
    "reviews_df[\"star_rating\"].value_counts().sort_index(ascending=False)"
   ]
  }
 ],
 "metadata": {
  "kernelspec": {
   "display_name": "cs4580wrangling",
   "language": "python",
   "name": "python3"
  },
  "language_info": {
   "codemirror_mode": {
    "name": "ipython",
    "version": 3
   },
   "file_extension": ".py",
   "mimetype": "text/x-python",
   "name": "python",
   "nbconvert_exporter": "python",
   "pygments_lexer": "ipython3",
   "version": "3.11.9"
  }
 },
 "nbformat": 4,
 "nbformat_minor": 2
}
