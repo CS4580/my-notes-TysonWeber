{
 "cells": [
  {
   "cell_type": "markdown",
   "metadata": {},
   "source": [
    "## Chi-Squared Analysis\n",
    "\n",
    "### First Question: Did more women and children survive compared to men?\n",
    "\n",
    "Dataset from canvas (`titanic_passenger_list.csv`)"
   ]
  },
  {
   "cell_type": "code",
   "execution_count": 36,
   "metadata": {},
   "outputs": [
    {
     "data": {
      "text/html": [
       "<div>\n",
       "<style scoped>\n",
       "    .dataframe tbody tr th:only-of-type {\n",
       "        vertical-align: middle;\n",
       "    }\n",
       "\n",
       "    .dataframe tbody tr th {\n",
       "        vertical-align: top;\n",
       "    }\n",
       "\n",
       "    .dataframe thead th {\n",
       "        text-align: right;\n",
       "    }\n",
       "</style>\n",
       "<table border=\"1\" class=\"dataframe\">\n",
       "  <thead>\n",
       "    <tr style=\"text-align: right;\">\n",
       "      <th></th>\n",
       "      <th>Name</th>\n",
       "      <th>Born</th>\n",
       "      <th>Died</th>\n",
       "      <th>Age</th>\n",
       "      <th>Gender</th>\n",
       "      <th>Passenger_Class</th>\n",
       "      <th>Lived_Died</th>\n",
       "      <th>Fare</th>\n",
       "      <th>Fare_decimal</th>\n",
       "    </tr>\n",
       "  </thead>\n",
       "  <tbody>\n",
       "    <tr>\n",
       "      <th>0</th>\n",
       "      <td>DEAN, Miss Elizabeth Gladys Millvina</td>\n",
       "      <td>1912.0</td>\n",
       "      <td>2009.0</td>\n",
       "      <td>0.166667</td>\n",
       "      <td>Female</td>\n",
       "      <td>3</td>\n",
       "      <td>lived</td>\n",
       "      <td>£20             11s             6d</td>\n",
       "      <td>20.58</td>\n",
       "    </tr>\n",
       "    <tr>\n",
       "      <th>1</th>\n",
       "      <td>DANBOM, Master Gilbert Sigvard Emanuel</td>\n",
       "      <td>1911.0</td>\n",
       "      <td>1912.0</td>\n",
       "      <td>0.333333</td>\n",
       "      <td>Male</td>\n",
       "      <td>3</td>\n",
       "      <td>died</td>\n",
       "      <td>£14             8s</td>\n",
       "      <td>14.40</td>\n",
       "    </tr>\n",
       "    <tr>\n",
       "      <th>2</th>\n",
       "      <td>TANNūS, Master As'ad</td>\n",
       "      <td>1911.0</td>\n",
       "      <td>1931.0</td>\n",
       "      <td>0.416667</td>\n",
       "      <td>Male</td>\n",
       "      <td>3</td>\n",
       "      <td>lived</td>\n",
       "      <td>£8             10s             4d</td>\n",
       "      <td>8.52</td>\n",
       "    </tr>\n",
       "    <tr>\n",
       "      <th>3</th>\n",
       "      <td>PEACOCK, Master Albert Edward</td>\n",
       "      <td>1911.0</td>\n",
       "      <td>1912.0</td>\n",
       "      <td>0.583333</td>\n",
       "      <td>Male</td>\n",
       "      <td>3</td>\n",
       "      <td>died</td>\n",
       "      <td>£13             15s             6d</td>\n",
       "      <td>13.78</td>\n",
       "    </tr>\n",
       "    <tr>\n",
       "      <th>4</th>\n",
       "      <td>RICHARDS, Master Sibley George</td>\n",
       "      <td>1911.0</td>\n",
       "      <td>1987.0</td>\n",
       "      <td>0.750000</td>\n",
       "      <td>Male</td>\n",
       "      <td>2</td>\n",
       "      <td>lived</td>\n",
       "      <td>£18             15s</td>\n",
       "      <td>18.75</td>\n",
       "    </tr>\n",
       "  </tbody>\n",
       "</table>\n",
       "</div>"
      ],
      "text/plain": [
       "                                     Name    Born    Died       Age  Gender  \\\n",
       "0    DEAN, Miss Elizabeth Gladys Millvina  1912.0  2009.0  0.166667  Female   \n",
       "1  DANBOM, Master Gilbert Sigvard Emanuel  1911.0  1912.0  0.333333    Male   \n",
       "2                    TANNūS, Master As'ad  1911.0  1931.0  0.416667    Male   \n",
       "3           PEACOCK, Master Albert Edward  1911.0  1912.0  0.583333    Male   \n",
       "4          RICHARDS, Master Sibley George  1911.0  1987.0  0.750000    Male   \n",
       "\n",
       "   Passenger_Class Lived_Died                                Fare  \\\n",
       "0                3      lived  £20             11s             6d   \n",
       "1                3       died                  £14             8s   \n",
       "2                3      lived   £8             10s             4d   \n",
       "3                3       died  £13             15s             6d   \n",
       "4                2      lived                 £18             15s   \n",
       "\n",
       "   Fare_decimal  \n",
       "0         20.58  \n",
       "1         14.40  \n",
       "2          8.52  \n",
       "3         13.78  \n",
       "4         18.75  "
      ]
     },
     "execution_count": 36,
     "metadata": {},
     "output_type": "execute_result"
    }
   ],
   "source": [
    "import pandas as pd\n",
    "\n",
    "passenger_df = pd.read_csv('../data/Titanic_passengers.csv')\n",
    "\n",
    "passenger_df.head()"
   ]
  },
  {
   "cell_type": "code",
   "execution_count": 38,
   "metadata": {},
   "outputs": [
    {
     "data": {
      "text/html": [
       "<div>\n",
       "<style scoped>\n",
       "    .dataframe tbody tr th:only-of-type {\n",
       "        vertical-align: middle;\n",
       "    }\n",
       "\n",
       "    .dataframe tbody tr th {\n",
       "        vertical-align: top;\n",
       "    }\n",
       "\n",
       "    .dataframe thead th {\n",
       "        text-align: right;\n",
       "    }\n",
       "</style>\n",
       "<table border=\"1\" class=\"dataframe\">\n",
       "  <thead>\n",
       "    <tr style=\"text-align: right;\">\n",
       "      <th></th>\n",
       "      <th>Name</th>\n",
       "      <th>Born</th>\n",
       "      <th>Died</th>\n",
       "      <th>Age</th>\n",
       "      <th>Gender</th>\n",
       "      <th>Passenger_Class</th>\n",
       "      <th>Lived_Died</th>\n",
       "      <th>Fare</th>\n",
       "      <th>Fare_decimal</th>\n",
       "    </tr>\n",
       "  </thead>\n",
       "  <tbody>\n",
       "    <tr>\n",
       "      <th>1252</th>\n",
       "      <td>NOEL, Major Gerard Thomas</td>\n",
       "      <td>1856.0</td>\n",
       "      <td>1941.0</td>\n",
       "      <td>55.0</td>\n",
       "      <td>Male</td>\n",
       "      <td>1</td>\n",
       "      <td>died</td>\n",
       "      <td>£3.00</td>\n",
       "      <td>3.0</td>\n",
       "    </tr>\n",
       "    <tr>\n",
       "      <th>1253</th>\n",
       "      <td>DOUTON, Mr William Joseph</td>\n",
       "      <td>1856.0</td>\n",
       "      <td>1912.0</td>\n",
       "      <td>55.0</td>\n",
       "      <td>Male</td>\n",
       "      <td>2</td>\n",
       "      <td>died</td>\n",
       "      <td>£26.00</td>\n",
       "      <td>26.0</td>\n",
       "    </tr>\n",
       "    <tr>\n",
       "      <th>1254</th>\n",
       "      <td>HIPKINS, Mr William Edward</td>\n",
       "      <td>1857.0</td>\n",
       "      <td>1912.0</td>\n",
       "      <td>55.0</td>\n",
       "      <td>Male</td>\n",
       "      <td>1</td>\n",
       "      <td>died</td>\n",
       "      <td>£50.00</td>\n",
       "      <td>50.0</td>\n",
       "    </tr>\n",
       "    <tr>\n",
       "      <th>1255</th>\n",
       "      <td>MOLSON, Mr Harry Markland</td>\n",
       "      <td>1856.0</td>\n",
       "      <td>1912.0</td>\n",
       "      <td>55.0</td>\n",
       "      <td>Male</td>\n",
       "      <td>1</td>\n",
       "      <td>died</td>\n",
       "      <td>£30             10s</td>\n",
       "      <td>30.5</td>\n",
       "    </tr>\n",
       "    <tr>\n",
       "      <th>1256</th>\n",
       "      <td>HAYS, Mr Charles Melville</td>\n",
       "      <td>1856.0</td>\n",
       "      <td>1912.0</td>\n",
       "      <td>55.0</td>\n",
       "      <td>Male</td>\n",
       "      <td>1</td>\n",
       "      <td>died</td>\n",
       "      <td>£93             10s</td>\n",
       "      <td>93.5</td>\n",
       "    </tr>\n",
       "    <tr>\n",
       "      <th>...</th>\n",
       "      <td>...</td>\n",
       "      <td>...</td>\n",
       "      <td>...</td>\n",
       "      <td>...</td>\n",
       "      <td>...</td>\n",
       "      <td>...</td>\n",
       "      <td>...</td>\n",
       "      <td>...</td>\n",
       "      <td>...</td>\n",
       "    </tr>\n",
       "    <tr>\n",
       "      <th>1347</th>\n",
       "      <td>FLETCHER, Miss N.</td>\n",
       "      <td>NaN</td>\n",
       "      <td>NaN</td>\n",
       "      <td>NaN</td>\n",
       "      <td>Female</td>\n",
       "      <td>1</td>\n",
       "      <td>died</td>\n",
       "      <td>£1             10s</td>\n",
       "      <td>1.5</td>\n",
       "    </tr>\n",
       "    <tr>\n",
       "      <th>1348</th>\n",
       "      <td>STEVENS, Mr George</td>\n",
       "      <td>NaN</td>\n",
       "      <td>NaN</td>\n",
       "      <td>NaN</td>\n",
       "      <td>Male</td>\n",
       "      <td>1</td>\n",
       "      <td>died</td>\n",
       "      <td>£1             10s</td>\n",
       "      <td>1.5</td>\n",
       "    </tr>\n",
       "    <tr>\n",
       "      <th>1349</th>\n",
       "      <td>CARRUTHERS, Mr Francis</td>\n",
       "      <td>NaN</td>\n",
       "      <td>NaN</td>\n",
       "      <td>NaN</td>\n",
       "      <td>Male</td>\n",
       "      <td>1</td>\n",
       "      <td>died</td>\n",
       "      <td>NaN</td>\n",
       "      <td>NaN</td>\n",
       "    </tr>\n",
       "    <tr>\n",
       "      <th>1350</th>\n",
       "      <td>COLLIS, Mr</td>\n",
       "      <td>NaN</td>\n",
       "      <td>NaN</td>\n",
       "      <td>NaN</td>\n",
       "      <td>Male</td>\n",
       "      <td>1</td>\n",
       "      <td>died</td>\n",
       "      <td>NaN</td>\n",
       "      <td>NaN</td>\n",
       "    </tr>\n",
       "    <tr>\n",
       "      <th>1351</th>\n",
       "      <td>WILDING, Mr Edward</td>\n",
       "      <td>NaN</td>\n",
       "      <td>NaN</td>\n",
       "      <td>NaN</td>\n",
       "      <td>Male</td>\n",
       "      <td>1</td>\n",
       "      <td>died</td>\n",
       "      <td>NaN</td>\n",
       "      <td>NaN</td>\n",
       "    </tr>\n",
       "  </tbody>\n",
       "</table>\n",
       "<p>100 rows × 9 columns</p>\n",
       "</div>"
      ],
      "text/plain": [
       "                            Name    Born    Died   Age  Gender  \\\n",
       "1252   NOEL, Major Gerard Thomas  1856.0  1941.0  55.0    Male   \n",
       "1253   DOUTON, Mr William Joseph  1856.0  1912.0  55.0    Male   \n",
       "1254  HIPKINS, Mr William Edward  1857.0  1912.0  55.0    Male   \n",
       "1255   MOLSON, Mr Harry Markland  1856.0  1912.0  55.0    Male   \n",
       "1256   HAYS, Mr Charles Melville  1856.0  1912.0  55.0    Male   \n",
       "...                          ...     ...     ...   ...     ...   \n",
       "1347           FLETCHER, Miss N.     NaN     NaN   NaN  Female   \n",
       "1348          STEVENS, Mr George     NaN     NaN   NaN    Male   \n",
       "1349      CARRUTHERS, Mr Francis     NaN     NaN   NaN    Male   \n",
       "1350                  COLLIS, Mr     NaN     NaN   NaN    Male   \n",
       "1351          WILDING, Mr Edward     NaN     NaN   NaN    Male   \n",
       "\n",
       "      Passenger_Class Lived_Died                 Fare  Fare_decimal  \n",
       "1252                1       died                £3.00           3.0  \n",
       "1253                2       died               £26.00          26.0  \n",
       "1254                1       died               £50.00          50.0  \n",
       "1255                1       died  £30             10s          30.5  \n",
       "1256                1       died  £93             10s          93.5  \n",
       "...               ...        ...                  ...           ...  \n",
       "1347                1       died   £1             10s           1.5  \n",
       "1348                1       died   £1             10s           1.5  \n",
       "1349                1       died                  NaN           NaN  \n",
       "1350                1       died                  NaN           NaN  \n",
       "1351                1       died                  NaN           NaN  \n",
       "\n",
       "[100 rows x 9 columns]"
      ]
     },
     "execution_count": 38,
     "metadata": {},
     "output_type": "execute_result"
    }
   ],
   "source": [
    "passenger_df.tail(100)"
   ]
  },
  {
   "cell_type": "markdown",
   "metadata": {},
   "source": [
    "- What kind of data is the `dependent` data? (`Survived?`)\n",
    "  - Nominal\n",
    "\n",
    "- What kind of data is the `independent` data? (`gender`, `age`)\n",
    "  - Nominal\n",
    "\n",
    "Two Types:\n",
    "  - `Ordinal` data. Data that can be ordered.\n",
    "  - `Categorical/Nominal` data. Data that can not be ordered."
   ]
  },
  {
   "cell_type": "code",
   "execution_count": 30,
   "metadata": {},
   "outputs": [
    {
     "name": "stdout",
     "output_type": "stream",
     "text": [
      "Lived_Died  died  lived   All\n",
      "Gender                       \n",
      "Female       143    339   482\n",
      "Male         709    161   870\n",
      "All          852    500  1352\n"
     ]
    }
   ],
   "source": [
    "# margins=True will show the summary\n",
    "contingency_table = pd.crosstab(passenger_df['Gender'], passenger_df['Lived_Died'], margins=True)\n",
    "print(contingency_table)"
   ]
  },
  {
   "cell_type": "code",
   "execution_count": 31,
   "metadata": {},
   "outputs": [
    {
     "data": {
      "text/plain": [
       "<Axes: xlabel='Gender'>"
      ]
     },
     "execution_count": 31,
     "metadata": {},
     "output_type": "execute_result"
    },
    {
     "data": {
      "image/png": "[encoded data removed]",
      "text/plain": [
       "<Figure size 640x480 with 1 Axes>"
      ]
     },
     "metadata": {},
     "output_type": "display_data"
    }
   ],
   "source": [
    "# Task: Create a stacked bar chart showing the number of passengers by gender that lived or died\n",
    "\n",
    "import matplotlib.pyplot as plt\n",
    "\n",
    "# Exclude the last column and last row (summary info)\n",
    "contingency_table = pd.crosstab(passenger_df['Gender'], passenger_df['Lived_Died'])\n",
    "contingency_table.plot(kind='bar', stacked=True)\n"
   ]
  },
  {
   "cell_type": "code",
   "execution_count": 32,
   "metadata": {},
   "outputs": [
    {
     "name": "stdout",
     "output_type": "stream",
     "text": [
      "(355.24355436145913, 3.0570688722545846e-79, 1)\n"
     ]
    }
   ],
   "source": [
    "from scipy import stats # for chi2_contingency\n",
    "\n",
    "print(stats.chi2_contingency(contingency_table)[0:3])\n",
    "\n",
    "# you get 3 values back:\n",
    "# 1) Chi-Squared: The higher the chi-squared statistic, the less the likelihood that the observed values were the result of pure chance\n",
    "# 2) Target P-value\n",
    "# 3) Degrees of freedom: 1 degree of freedom. (rows - 1) * (columns - 1) = 1"
   ]
  },
  {
   "cell_type": "markdown",
   "metadata": {},
   "source": [
    "## Chi-Square: Was Age relevant?"
   ]
  },
  {
   "cell_type": "code",
   "execution_count": 49,
   "metadata": {},
   "outputs": [
    {
     "name": "stdout",
     "output_type": "stream",
     "text": [
      "Lived_Died  died  lived\n",
      "age_bins               \n",
      "(0, 10]       46     54\n",
      "(10, 20]     156     71\n",
      "(20, 30]     286    166\n",
      "(30, 40]     158    107\n",
      "(40, 50]     111     64\n",
      "(50, 60]      40     30\n",
      "(60, 70]      27      7\n",
      "(70, 80]       5      0\n"
     ]
    }
   ],
   "source": [
    "# Check the age column. It is already fixed for the age at the time of the incident.\n",
    "\n",
    "# Create the bins\n",
    "passenger_df['age_bins'] = pd.cut(x=passenger_df['Age'], bins=[0, 10, 20, 30, 40, 50, 60, 70, 80])\n",
    "contingency_table = pd.crosstab(passenger_df['age_bins'], passenger_df['Lived_Died'])\n",
    "\n",
    "print(contingency_table)\n",
    "\n",
    "\n"
   ]
  },
  {
   "cell_type": "code",
   "execution_count": 46,
   "metadata": {},
   "outputs": [
    {
     "data": {
      "text/plain": [
       "array([<Axes: title={'center': 'died'}>,\n",
       "       <Axes: title={'center': 'lived'}>], dtype=object)"
      ]
     },
     "execution_count": 46,
     "metadata": {},
     "output_type": "execute_result"
    },
    {
     "data": {
      "image/png": "[encoded data removed]",
      "text/plain": [
       "<Figure size 640x480 with 2 Axes>"
      ]
     },
     "metadata": {},
     "output_type": "display_data"
    }
   ],
   "source": [
    "passenger_df.hist(column='Age', bins=[0, 10, 20, 30, 40, 50, 60, 70, 80], by='Lived_Died')"
   ]
  },
  {
   "cell_type": "code",
   "execution_count": 48,
   "metadata": {},
   "outputs": [
    {
     "data": {
      "text/plain": [
       "<Axes: ylabel='Frequency'>"
      ]
     },
     "execution_count": 48,
     "metadata": {},
     "output_type": "execute_result"
    },
    {
     "data": {
      "image/png": "[encoded data removed]",
      "text/plain": [
       "<Figure size 640x480 with 1 Axes>"
      ]
     },
     "metadata": {},
     "output_type": "display_data"
    }
   ],
   "source": [
    "passenger_df.pivot(columns=\"Lived_Died\")[\"Age\"].plot(kind=\"hist\", stacked=True)"
   ]
  },
  {
   "cell_type": "code",
   "execution_count": 51,
   "metadata": {},
   "outputs": [
    {
     "name": "stdout",
     "output_type": "stream",
     "text": [
      "0       (0.0, 10.0]\n",
      "1       (0.0, 10.0]\n",
      "2       (0.0, 10.0]\n",
      "3       (0.0, 10.0]\n",
      "4       (0.0, 10.0]\n",
      "           ...     \n",
      "1347            NaN\n",
      "1348            NaN\n",
      "1349            NaN\n",
      "1350            NaN\n",
      "1351            NaN\n",
      "Name: age_bins, Length: 1352, dtype: category\n",
      "Categories (8, interval[int64, right]): [(0, 10] < (10, 20] < (20, 30] < (30, 40] < (40, 50] < (50, 60] < (60, 70] < (70, 80]]\n"
     ]
    }
   ],
   "source": [
    "# Create a heatmap\n",
    "passenger_df['age_bins'] = pd.cut(x=passenger_df['Age'], bins=[0, 10, 20, 30, 40, 50, 60, 70, 80])\n",
    "\n",
    "# Use a pivot table "
   ]
  }
 ],
 "metadata": {
  "kernelspec": {
   "display_name": "cs4580module6",
   "language": "python",
   "name": "python3"
  },
  "language_info": {
   "codemirror_mode": {
    "name": "ipython",
    "version": 3
   },
   "file_extension": ".py",
   "mimetype": "text/x-python",
   "name": "python",
   "nbconvert_exporter": "python",
   "pygments_lexer": "ipython3",
   "version": "3.12.7"
  }
 },
 "nbformat": 4,
 "nbformat_minor": 2
}
